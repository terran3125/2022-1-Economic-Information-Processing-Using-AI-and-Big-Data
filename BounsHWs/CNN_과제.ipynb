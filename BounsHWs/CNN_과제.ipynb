{
  "cells": [
    {
      "cell_type": "markdown",
      "metadata": {
        "id": "vS1dyS7vkivn"
      },
      "source": [
        "#EC5320 Week4a codes: CNN regression (Age detection) - FOR TEACHING\n",
        "\n",
        "2022.3.23.<br>\n",
        "\n",
        "Author: Hyunjoo Yang (hyang@sogang.ac.kr)<br><br>\n",
        "\n",
        "This notebook uses CNN to do age prediction.<br><br>\n",
        "\n",
        "Data source for face images: <br>\n",
        "https://data.vision.ee.ethz.ch/cvl/rrothe/imdb-wiki/ <br><br>\n",
        "공인의 데이터를 3개의 소스로부터 긁어왔다. 50만장\n",
        "\n",
        "Codes are based on: <br>\n",
        "https://medium.com/analytics-vidhya/fastai-image-regression-age-prediction-based-on-image-68294d34f2ed <br><br>\n",
        "\n",
        "For image augmentation, refer to: <br>\n",
        "https://github.com/fastai/fastbook/blob/master/02_production.ipynb <br><br>\n",
        "\n",
        "For AI and ethics, refer to: <br>\n",
        "https://github.com/fastai/fastbook/blob/master/03_ethics.ipynb <br><br>"
      ]
    },
    {
      "cell_type": "markdown",
      "metadata": {
        "id": "eslVisHmUx9p"
      },
      "source": [
        "# 1. Install and import libraries"
      ]
    },
    {
      "cell_type": "code",
      "execution_count": null,
      "metadata": {
        "id": "yZDwVdF35EQ8"
      },
      "outputs": [],
      "source": [
        "# upgrade fastai to the most recent version (v. 2.5.3)\n",
        "\n",
        "%%capture\n",
        "!pip install fastai --upgrade"
      ]
    },
    {
      "cell_type": "code",
      "execution_count": null,
      "metadata": {
        "colab": {
          "base_uri": "https://localhost:8080/"
        },
        "id": "0cE-eacr5KKk",
        "outputId": "12c29881-e82f-4f0c-f24c-615e9a8bc431"
      },
      "outputs": [],
      "source": [
        "import fastai\n",
        "print(fastai.__version__)\n",
        "\n",
        "from fastai.vision.all import *\n",
        "#from fastai.text.all import *\n",
        "#from fastai.collab import *\n",
        "#from fastai.tabular.all import * \n",
        "\n",
        "from matplotlib.pyplot import imshow"
      ]
    },
    {
      "cell_type": "code",
      "execution_count": null,
      "metadata": {
        "id": "D2haz-wO2wUe"
      },
      "outputs": [],
      "source": [
        "import numpy as np\n",
        "import pandas as pd\n",
        "from matplotlib.pyplot import imshow\n",
        "from google.colab import files"
      ]
    },
    {
      "cell_type": "markdown",
      "metadata": {
        "id": "krG5u2iCwu4q"
      },
      "source": [
        "# 2. Download file"
      ]
    },
    {
      "cell_type": "code",
      "execution_count": null,
      "metadata": {
        "colab": {
          "base_uri": "https://localhost:8080/"
        },
        "id": "Pd4ZPg7z2wSG",
        "outputId": "8a77f857-7ab3-4d30-ebbe-5173fa2e464a"
      },
      "outputs": [],
      "source": [
        "!wget -O imdb_crop_sample.zip 'https://www.dropbox.com/s/cwhhvl5trf4gtvh/imdb_crop_sample.zip?dl=0'"
      ]
    },
    {
      "cell_type": "code",
      "execution_count": null,
      "metadata": {
        "id": "cyXG8GPG2wP_"
      },
      "outputs": [],
      "source": [
        "%%capture\n",
        "\n",
        "!unzip imdb_crop_sample.zip -d faces"
      ]
    },
    {
      "cell_type": "markdown",
      "metadata": {
        "id": "qjADTktnRf1s"
      },
      "source": [
        "# 3. Prepare image file path + label dataframe"
      ]
    },
    {
      "cell_type": "markdown",
      "metadata": {
        "id": "GsA7R19ORxya"
      },
      "source": [
        "## 3.1 grab image file paths"
      ]
    },
    {
      "cell_type": "code",
      "execution_count": null,
      "metadata": {
        "colab": {
          "base_uri": "https://localhost:8080/",
          "height": 424
        },
        "id": "ENXA4F7AIW3n",
        "outputId": "cc3de631-d57a-4c0a-934c-cc6db5249cb4"
      },
      "outputs": [],
      "source": [
        "# grab image file paths\n",
        "\n",
        "import glob\n",
        "img_full_path = pd.Series(glob.glob('faces/*.jpg'), name='my_file_path')\n",
        "img_nm = pd.Series(img_full_path.str.split(pat=\"/\").str[1], name='file_nm')\n",
        "\n",
        "df_imdb_sample = pd.concat([img_full_path, img_nm], axis=1)\n",
        "df_imdb_sample"
      ]
    },
    {
      "cell_type": "code",
      "execution_count": null,
      "metadata": {
        "colab": {
          "base_uri": "https://localhost:8080/",
          "height": 206
        },
        "id": "sVDWWqWEY5kQ",
        "outputId": "abafa94e-90ac-4b27-e7ab-c5521fdfc94e"
      },
      "outputs": [],
      "source": [
        "# 파일명 뒤에서 8번째~4번째를 추출해서 photo taken 속성으로 생성\n",
        "\n",
        "df_imdb_sample[\"photo_taken\"] = df_imdb_sample['file_nm'].str[-8:-4]\n",
        "df_imdb_sample.head()"
      ]
    },
    {
      "cell_type": "code",
      "execution_count": null,
      "metadata": {
        "colab": {
          "base_uri": "https://localhost:8080/",
          "height": 206
        },
        "id": "IFENXnhjY5hC",
        "outputId": "1fae55b7-bdcf-4657-f5fa-593c355364e5"
      },
      "outputs": [],
      "source": [
        "# date of birth를 추출하기 위해서 파일명을 일단 _를 기준으로 분리시켜서 date of birth 속성에 삽입\n",
        "\n",
        "df_imdb_sample[\"date_of_birth\"] = df_imdb_sample['file_nm'].str.split(\"_\")\n",
        "df_imdb_sample.head()"
      ]
    },
    {
      "cell_type": "code",
      "execution_count": null,
      "metadata": {
        "colab": {
          "base_uri": "https://localhost:8080/",
          "height": 206
        },
        "id": "5yQPeS4AY5ef",
        "outputId": "9dc43e4a-43be-46b6-c1a6-03493098e3df"
      },
      "outputs": [],
      "source": [
        "# 리스트 내에서 date of birth가 속한 위치 추출\n",
        "\n",
        "for i in range(0, len(df_imdb_sample)) :\n",
        "  df_imdb_sample[\"date_of_birth\"][i] = df_imdb_sample[\"date_of_birth\"][i][2]\n",
        "df_imdb_sample.head()"
      ]
    },
    {
      "cell_type": "code",
      "execution_count": null,
      "metadata": {
        "colab": {
          "base_uri": "https://localhost:8080/",
          "height": 206
        },
        "id": "7zD1SVbyY5cA",
        "outputId": "3efe7997-33c2-459a-c8ed-14e9df4ce4a1"
      },
      "outputs": [],
      "source": [
        "# training 코드와의 호환성을 위해서 연도만 추출\n",
        "\n",
        "df_imdb_sample[\"date_of_birth\"] = df_imdb_sample[\"date_of_birth\"].str[0:4]\n",
        "df_imdb_sample.head()"
      ]
    },
    {
      "cell_type": "markdown",
      "metadata": {
        "id": "SbIGw6ldR2_2"
      },
      "source": [
        "## 3.2 grab ground truth dataset (MATLAB data)"
      ]
    },
    {
      "cell_type": "markdown",
      "metadata": {
        "id": "eK4Q_j0SSWRF"
      },
      "source": [
        "## 3.3 Merge my image file df with ground truth data"
      ]
    },
    {
      "cell_type": "code",
      "execution_count": null,
      "metadata": {
        "colab": {
          "base_uri": "https://localhost:8080/"
        },
        "id": "tI3EQfhuOEjg",
        "outputId": "17daa401-b7d7-44cf-a432-db27f47a67f3"
      },
      "outputs": [],
      "source": [
        "# check if missing variable\n",
        "df_imdb_sample.isnull().sum()"
      ]
    },
    {
      "cell_type": "code",
      "execution_count": null,
      "metadata": {
        "colab": {
          "base_uri": "https://localhost:8080/"
        },
        "id": "YYmpqLGwOgYg",
        "outputId": "a3dd01c3-78ad-4632-876a-b62be7b4bcf3"
      },
      "outputs": [],
      "source": [
        "df_imdb_sample.shape"
      ]
    },
    {
      "cell_type": "markdown",
      "metadata": {
        "id": "1RiOfqtASnkE"
      },
      "source": [
        "## 3.4 Calculate age"
      ]
    },
    {
      "cell_type": "code",
      "execution_count": null,
      "metadata": {
        "colab": {
          "base_uri": "https://localhost:8080/",
          "height": 308
        },
        "id": "0_xwWgTMuxMM",
        "outputId": "ceca8ce5-b909-4509-fbab-43149bc7996e"
      },
      "outputs": [],
      "source": [
        "# 안 된다.\n",
        "\n",
        "df_imdb_sample['photo_taken'] = pd.to_numeric(df_imdb_sample['photo_taken'])\n",
        "df_imdb_sample['date_of_birth'] = pd.to_numeric(df_imdb_sample['date_of_birth'])"
      ]
    },
    {
      "cell_type": "code",
      "execution_count": null,
      "metadata": {
        "id": "V79yt8texOrP"
      },
      "outputs": [],
      "source": [
        "# 위에 에러 내용 확인해보니 파일명이 잘못된 data가 하나 있는 정도여서 그냥 수동으로 제거\n",
        "df_imdb_sample = df_imdb_sample.drop(df_imdb_sample.index[4890])"
      ]
    },
    {
      "cell_type": "code",
      "execution_count": null,
      "metadata": {
        "id": "cI1vmbzXxNcQ"
      },
      "outputs": [],
      "source": [
        "# 하나 없애주니까 잘 된다.\n",
        "df_imdb_sample['photo_taken'] = pd.to_numeric(df_imdb_sample['photo_taken'])\n",
        "df_imdb_sample['date_of_birth'] = pd.to_numeric(df_imdb_sample['date_of_birth'])"
      ]
    },
    {
      "cell_type": "code",
      "execution_count": null,
      "metadata": {
        "id": "VFNDXrQoOkKm"
      },
      "outputs": [],
      "source": [
        "# calculate age\n",
        "df_imdb_sample['age'] = df_imdb_sample['photo_taken'] - df_imdb_sample['date_of_birth']\n",
        "\n",
        "# some guys seem to be greater than 100. some of these are paintings. remove these old guys\n",
        "df_imdb_sample = df_imdb_sample[df_imdb_sample['age'] <= 100]\n",
        "\n",
        "# some guys seem to be unborn in the data set\n",
        "df_imdb_sample = df_imdb_sample[df_imdb_sample['age'] > 0]"
      ]
    },
    {
      "cell_type": "code",
      "execution_count": null,
      "metadata": {
        "colab": {
          "base_uri": "https://localhost:8080/"
        },
        "id": "UsoFE2j-Polr",
        "outputId": "4ce35e36-4a2d-4550-b8df-ed453bef63ad"
      },
      "outputs": [],
      "source": [
        "# age의 outlier가 제거된 상태\n",
        "df_imdb_sample.shape"
      ]
    },
    {
      "cell_type": "code",
      "execution_count": null,
      "metadata": {
        "colab": {
          "base_uri": "https://localhost:8080/",
          "height": 424
        },
        "id": "BeOrrWgTPq1A",
        "outputId": "ec600cbd-a605-4abb-d901-5fad36e5408f"
      },
      "outputs": [],
      "source": [
        "# age가 추가됐다.\n",
        "df_imdb_sample"
      ]
    },
    {
      "cell_type": "code",
      "execution_count": null,
      "metadata": {
        "colab": {
          "base_uri": "https://localhost:8080/",
          "height": 283
        },
        "id": "nEVWZqleQdyZ",
        "outputId": "798baf86-3c16-4ff0-e5ad-9f0acce58ae7"
      },
      "outputs": [],
      "source": [
        "df_imdb_sample['age'].hist()"
      ]
    },
    {
      "cell_type": "markdown",
      "metadata": {
        "id": "l9bZrmA2PWRO"
      },
      "source": [
        "# 9. Prepare data for CNN"
      ]
    },
    {
      "cell_type": "code",
      "execution_count": null,
      "metadata": {
        "id": "ovoE8UXcQfao"
      },
      "outputs": [],
      "source": [
        "# data block settings\n",
        "\n",
        "my_random_seed = 42\n",
        "my_batch_size = 64"
      ]
    },
    {
      "cell_type": "code",
      "execution_count": null,
      "metadata": {
        "id": "fim_8mrlRGvz"
      },
      "outputs": [],
      "source": [
        "from fastai.vision.data import ImageDataLoaders"
      ]
    },
    {
      "cell_type": "code",
      "execution_count": null,
      "metadata": {
        "colab": {
          "base_uri": "https://localhost:8080/",
          "height": 424
        },
        "id": "ApjD5Do7Tjxl",
        "outputId": "79bf5bde-354d-4c85-e29b-52c91041d92d"
      },
      "outputs": [],
      "source": [
        "df_imdb_simple = df_imdb_sample[['my_file_path','age']]\n",
        "df_imdb_simple"
      ]
    },
    {
      "cell_type": "code",
      "execution_count": null,
      "metadata": {
        "id": "xVrrS_frWa_i"
      },
      "outputs": [],
      "source": [
        "dls = DataBlock(\n",
        "    blocks=(ImageBlock, RegressionBlock),\n",
        "    get_x=ColReader('my_file_path'), \n",
        "    get_y=ColReader('age'),\n",
        "    splitter=RandomSplitter(valid_pct=0.2, seed=my_random_seed),\n",
        "    item_tfms=Resize(128)\n",
        ").dataloaders(df_imdb_simple)"
      ]
    },
    {
      "cell_type": "code",
      "execution_count": null,
      "metadata": {
        "colab": {
          "base_uri": "https://localhost:8080/"
        },
        "id": "2OCksErHRby2",
        "outputId": "893ff276-5906-47fe-86ba-6be18ce0478b"
      },
      "outputs": [],
      "source": [
        "len(dls.train_ds), len(dls.valid_ds)"
      ]
    },
    {
      "cell_type": "code",
      "execution_count": null,
      "metadata": {
        "colab": {
          "base_uri": "https://localhost:8080/",
          "height": 367
        },
        "id": "08iybPmcRl_0",
        "outputId": "83eda3b2-ea2d-46a0-e5c0-d41e24996f34"
      },
      "outputs": [],
      "source": [
        "# show image examples\n",
        "\n",
        "dls.show_batch(max_n=16, nrows=2)"
      ]
    },
    {
      "cell_type": "markdown",
      "metadata": {
        "id": "c6PAHn713Nak"
      },
      "source": [
        "# 10. Train CNN model"
      ]
    },
    {
      "cell_type": "code",
      "execution_count": null,
      "metadata": {
        "colab": {
          "base_uri": "https://localhost:8080/",
          "height": 383,
          "referenced_widgets": [
            "34d084e4304c475b953b0a308935fe5e",
            "a1bbfb3630c54f50975ef692ae73836b",
            "df76e3106d9646fa93cd6365cebf0ee6",
            "c3537a1ac88245858935afe433bf353c",
            "2d03d3e2f258449f88a080ba34164b04",
            "bbd19abbc2c44dc88f506885ff69c89c",
            "cdc01811218b48dd9f3e73338dcea21b",
            "1b24e81cfe264ffba2ec9ed5f90423ff",
            "0126df7c358249e298867f69d1424768",
            "57f8679945db4aca9bce0a5eb36dd7c6",
            "d6e828684d2f4fc5955d439fdba16f3f"
          ]
        },
        "id": "pRRHX59C3R3D",
        "outputId": "65ae135a-0cd8-482c-c27b-6f86931f66b5"
      },
      "outputs": [],
      "source": [
        "#learn = 'change metric to rmse'\n",
        "\n",
        "learn = cnn_learner(dls, resnet34, metrics=rmse)\n",
        "learn.fine_tune(7)"
      ]
    },
    {
      "cell_type": "code",
      "execution_count": null,
      "metadata": {
        "colab": {
          "base_uri": "https://localhost:8080/",
          "height": 551
        },
        "id": "tZX3ZGd2mCdL",
        "outputId": "ed07a935-56dc-4923-b29e-f763deb6c969"
      },
      "outputs": [],
      "source": [
        "learn.show_results()"
      ]
    },
    {
      "cell_type": "markdown",
      "metadata": {
        "id": "a323Ix1bVzE0"
      },
      "source": [
        "# 11. Test using your own image"
      ]
    },
    {
      "cell_type": "code",
      "execution_count": null,
      "metadata": {
        "id": "7hV17S3jadL0"
      },
      "outputs": [],
      "source": [
        "from google.colab import files"
      ]
    },
    {
      "cell_type": "code",
      "execution_count": null,
      "metadata": {
        "colab": {
          "base_uri": "https://localhost:8080/",
          "height": 95,
          "resources": {
            "http://localhost:8080/nbextensions/google.colab/files.js": {
              "data": "Ly8gQ29weXJpZ2h0IDIwMTcgR29vZ2xlIExMQwovLwovLyBMaWNlbnNlZCB1bmRlciB0aGUgQXBhY2hlIExpY2Vuc2UsIFZlcnNpb24gMi4wICh0aGUgIkxpY2Vuc2UiKTsKLy8geW91IG1heSBub3QgdXNlIHRoaXMgZmlsZSBleGNlcHQgaW4gY29tcGxpYW5jZSB3aXRoIHRoZSBMaWNlbnNlLgovLyBZb3UgbWF5IG9idGFpbiBhIGNvcHkgb2YgdGhlIExpY2Vuc2UgYXQKLy8KLy8gICAgICBodHRwOi8vd3d3LmFwYWNoZS5vcmcvbGljZW5zZXMvTElDRU5TRS0yLjAKLy8KLy8gVW5sZXNzIHJlcXVpcmVkIGJ5IGFwcGxpY2FibGUgbGF3IG9yIGFncmVlZCB0byBpbiB3cml0aW5nLCBzb2Z0d2FyZQovLyBkaXN0cmlidXRlZCB1bmRlciB0aGUgTGljZW5zZSBpcyBkaXN0cmlidXRlZCBvbiBhbiAiQVMgSVMiIEJBU0lTLAovLyBXSVRIT1VUIFdBUlJBTlRJRVMgT1IgQ09ORElUSU9OUyBPRiBBTlkgS0lORCwgZWl0aGVyIGV4cHJlc3Mgb3IgaW1wbGllZC4KLy8gU2VlIHRoZSBMaWNlbnNlIGZvciB0aGUgc3BlY2lmaWMgbGFuZ3VhZ2UgZ292ZXJuaW5nIHBlcm1pc3Npb25zIGFuZAovLyBsaW1pdGF0aW9ucyB1bmRlciB0aGUgTGljZW5zZS4KCi8qKgogKiBAZmlsZW92ZXJ2aWV3IEhlbHBlcnMgZm9yIGdvb2dsZS5jb2xhYiBQeXRob24gbW9kdWxlLgogKi8KKGZ1bmN0aW9uKHNjb3BlKSB7CmZ1bmN0aW9uIHNwYW4odGV4dCwgc3R5bGVBdHRyaWJ1dGVzID0ge30pIHsKICBjb25zdCBlbGVtZW50ID0gZG9jdW1lbnQuY3JlYXRlRWxlbWVudCgnc3BhbicpOwogIGVsZW1lbnQudGV4dENvbnRlbnQgPSB0ZXh0OwogIGZvciAoY29uc3Qga2V5IG9mIE9iamVjdC5rZXlzKHN0eWxlQXR0cmlidXRlcykpIHsKICAgIGVsZW1lbnQuc3R5bGVba2V5XSA9IHN0eWxlQXR0cmlidXRlc1trZXldOwogIH0KICByZXR1cm4gZWxlbWVudDsKfQoKLy8gTWF4IG51bWJlciBvZiBieXRlcyB3aGljaCB3aWxsIGJlIHVwbG9hZGVkIGF0IGEgdGltZS4KY29uc3QgTUFYX1BBWUxPQURfU0laRSA9IDEwMCAqIDEwMjQ7CgpmdW5jdGlvbiBfdXBsb2FkRmlsZXMoaW5wdXRJZCwgb3V0cHV0SWQpIHsKICBjb25zdCBzdGVwcyA9IHVwbG9hZEZpbGVzU3RlcChpbnB1dElkLCBvdXRwdXRJZCk7CiAgY29uc3Qgb3V0cHV0RWxlbWVudCA9IGRvY3VtZW50LmdldEVsZW1lbnRCeUlkKG91dHB1dElkKTsKICAvLyBDYWNoZSBzdGVwcyBvbiB0aGUgb3V0cHV0RWxlbWVudCB0byBtYWtlIGl0IGF2YWlsYWJsZSBmb3IgdGhlIG5leHQgY2FsbAogIC8vIHRvIHVwbG9hZEZpbGVzQ29udGludWUgZnJvbSBQeXRob24uCiAgb3V0cHV0RWxlbWVudC5zdGVwcyA9IHN0ZXBzOwoKICByZXR1cm4gX3VwbG9hZEZpbGVzQ29udGludWUob3V0cHV0SWQpOwp9CgovLyBUaGlzIGlzIHJvdWdobHkgYW4gYXN5bmMgZ2VuZXJhdG9yIChub3Qgc3VwcG9ydGVkIGluIHRoZSBicm93c2VyIHlldCksCi8vIHdoZXJlIHRoZXJlIGFyZSBtdWx0aXBsZSBhc3luY2hyb25vdXMgc3RlcHMgYW5kIHRoZSBQeXRob24gc2lkZSBpcyBnb2luZwovLyB0byBwb2xsIGZvciBjb21wbGV0aW9uIG9mIGVhY2ggc3RlcC4KLy8gVGhpcyB1c2VzIGEgUHJvbWlzZSB0byBibG9jayB0aGUgcHl0aG9uIHNpZGUgb24gY29tcGxldGlvbiBvZiBlYWNoIHN0ZXAsCi8vIHRoZW4gcGFzc2VzIHRoZSByZXN1bHQgb2YgdGhlIHByZXZpb3VzIHN0ZXAgYXMgdGhlIGlucHV0IHRvIHRoZSBuZXh0IHN0ZXAuCmZ1bmN0aW9uIF91cGxvYWRGaWxlc0NvbnRpbnVlKG91dHB1dElkKSB7CiAgY29uc3Qgb3V0cHV0RWxlbWVudCA9IGRvY3VtZW50LmdldEVsZW1lbnRCeUlkKG91dHB1dElkKTsKICBjb25zdCBzdGVwcyA9IG91dHB1dEVsZW1lbnQuc3RlcHM7CgogIGNvbnN0IG5leHQgPSBzdGVwcy5uZXh0KG91dHB1dEVsZW1lbnQubGFzdFByb21pc2VWYWx1ZSk7CiAgcmV0dXJuIFByb21pc2UucmVzb2x2ZShuZXh0LnZhbHVlLnByb21pc2UpLnRoZW4oKHZhbHVlKSA9PiB7CiAgICAvLyBDYWNoZSB0aGUgbGFzdCBwcm9taXNlIHZhbHVlIHRvIG1ha2UgaXQgYXZhaWxhYmxlIHRvIHRoZSBuZXh0CiAgICAvLyBzdGVwIG9mIHRoZSBnZW5lcmF0b3IuCiAgICBvdXRwdXRFbGVtZW50Lmxhc3RQcm9taXNlVmFsdWUgPSB2YWx1ZTsKICAgIHJldHVybiBuZXh0LnZhbHVlLnJlc3BvbnNlOwogIH0pOwp9CgovKioKICogR2VuZXJhdG9yIGZ1bmN0aW9uIHdoaWNoIGlzIGNhbGxlZCBiZXR3ZWVuIGVhY2ggYXN5bmMgc3RlcCBvZiB0aGUgdXBsb2FkCiAqIHByb2Nlc3MuCiAqIEBwYXJhbSB7c3RyaW5nfSBpbnB1dElkIEVsZW1lbnQgSUQgb2YgdGhlIGlucHV0IGZpbGUgcGlja2VyIGVsZW1lbnQuCiAqIEBwYXJhbSB7c3RyaW5nfSBvdXRwdXRJZCBFbGVtZW50IElEIG9mIHRoZSBvdXRwdXQgZGlzcGxheS4KICogQHJldHVybiB7IUl0ZXJhYmxlPCFPYmplY3Q+fSBJdGVyYWJsZSBvZiBuZXh0IHN0ZXBzLgogKi8KZnVuY3Rpb24qIHVwbG9hZEZpbGVzU3RlcChpbnB1dElkLCBvdXRwdXRJZCkgewogIGNvbnN0IGlucHV0RWxlbWVudCA9IGRvY3VtZW50LmdldEVsZW1lbnRCeUlkKGlucHV0SWQpOwogIGlucHV0RWxlbWVudC5kaXNhYmxlZCA9IGZhbHNlOwoKICBjb25zdCBvdXRwdXRFbGVtZW50ID0gZG9jdW1lbnQuZ2V0RWxlbWVudEJ5SWQob3V0cHV0SWQpOwogIG91dHB1dEVsZW1lbnQuaW5uZXJIVE1MID0gJyc7CgogIGNvbnN0IHBpY2tlZFByb21pc2UgPSBuZXcgUHJvbWlzZSgocmVzb2x2ZSkgPT4gewogICAgaW5wdXRFbGVtZW50LmFkZEV2ZW50TGlzdGVuZXIoJ2NoYW5nZScsIChlKSA9PiB7CiAgICAgIHJlc29sdmUoZS50YXJnZXQuZmlsZXMpOwogICAgfSk7CiAgfSk7CgogIGNvbnN0IGNhbmNlbCA9IGRvY3VtZW50LmNyZWF0ZUVsZW1lbnQoJ2J1dHRvbicpOwogIGlucHV0RWxlbWVudC5wYXJlbnRFbGVtZW50LmFwcGVuZENoaWxkKGNhbmNlbCk7CiAgY2FuY2VsLnRleHRDb250ZW50ID0gJ0NhbmNlbCB1cGxvYWQnOwogIGNvbnN0IGNhbmNlbFByb21pc2UgPSBuZXcgUHJvbWlzZSgocmVzb2x2ZSkgPT4gewogICAgY2FuY2VsLm9uY2xpY2sgPSAoKSA9PiB7CiAgICAgIHJlc29sdmUobnVsbCk7CiAgICB9OwogIH0pOwoKICAvLyBXYWl0IGZvciB0aGUgdXNlciB0byBwaWNrIHRoZSBmaWxlcy4KICBjb25zdCBmaWxlcyA9IHlpZWxkIHsKICAgIHByb21pc2U6IFByb21pc2UucmFjZShbcGlja2VkUHJvbWlzZSwgY2FuY2VsUHJvbWlzZV0pLAogICAgcmVzcG9uc2U6IHsKICAgICAgYWN0aW9uOiAnc3RhcnRpbmcnLAogICAgfQogIH07CgogIGNhbmNlbC5yZW1vdmUoKTsKCiAgLy8gRGlzYWJsZSB0aGUgaW5wdXQgZWxlbWVudCBzaW5jZSBmdXJ0aGVyIHBpY2tzIGFyZSBub3QgYWxsb3dlZC4KICBpbnB1dEVsZW1lbnQuZGlzYWJsZWQgPSB0cnVlOwoKICBpZiAoIWZpbGVzKSB7CiAgICByZXR1cm4gewogICAgICByZXNwb25zZTogewogICAgICAgIGFjdGlvbjogJ2NvbXBsZXRlJywKICAgICAgfQogICAgfTsKICB9CgogIGZvciAoY29uc3QgZmlsZSBvZiBmaWxlcykgewogICAgY29uc3QgbGkgPSBkb2N1bWVudC5jcmVhdGVFbGVtZW50KCdsaScpOwogICAgbGkuYXBwZW5kKHNwYW4oZmlsZS5uYW1lLCB7Zm9udFdlaWdodDogJ2JvbGQnfSkpOwogICAgbGkuYXBwZW5kKHNwYW4oCiAgICAgICAgYCgke2ZpbGUudHlwZSB8fCAnbi9hJ30pIC0gJHtmaWxlLnNpemV9IGJ5dGVzLCBgICsKICAgICAgICBgbGFzdCBtb2RpZmllZDogJHsKICAgICAgICAgICAgZmlsZS5sYXN0TW9kaWZpZWREYXRlID8gZmlsZS5sYXN0TW9kaWZpZWREYXRlLnRvTG9jYWxlRGF0ZVN0cmluZygpIDoKICAgICAgICAgICAgICAgICAgICAgICAgICAgICAgICAgICAgJ24vYSd9IC0gYCkpOwogICAgY29uc3QgcGVyY2VudCA9IHNwYW4oJzAlIGRvbmUnKTsKICAgIGxpLmFwcGVuZENoaWxkKHBlcmNlbnQpOwoKICAgIG91dHB1dEVsZW1lbnQuYXBwZW5kQ2hpbGQobGkpOwoKICAgIGNvbnN0IGZpbGVEYXRhUHJvbWlzZSA9IG5ldyBQcm9taXNlKChyZXNvbHZlKSA9PiB7CiAgICAgIGNvbnN0IHJlYWRlciA9IG5ldyBGaWxlUmVhZGVyKCk7CiAgICAgIHJlYWRlci5vbmxvYWQgPSAoZSkgPT4gewogICAgICAgIHJlc29sdmUoZS50YXJnZXQucmVzdWx0KTsKICAgICAgfTsKICAgICAgcmVhZGVyLnJlYWRBc0FycmF5QnVmZmVyKGZpbGUpOwogICAgfSk7CiAgICAvLyBXYWl0IGZvciB0aGUgZGF0YSB0byBiZSByZWFkeS4KICAgIGxldCBmaWxlRGF0YSA9IHlpZWxkIHsKICAgICAgcHJvbWlzZTogZmlsZURhdGFQcm9taXNlLAogICAgICByZXNwb25zZTogewogICAgICAgIGFjdGlvbjogJ2NvbnRpbnVlJywKICAgICAgfQogICAgfTsKCiAgICAvLyBVc2UgYSBjaHVua2VkIHNlbmRpbmcgdG8gYXZvaWQgbWVzc2FnZSBzaXplIGxpbWl0cy4gU2VlIGIvNjIxMTU2NjAuCiAgICBsZXQgcG9zaXRpb24gPSAwOwogICAgZG8gewogICAgICBjb25zdCBsZW5ndGggPSBNYXRoLm1pbihmaWxlRGF0YS5ieXRlTGVuZ3RoIC0gcG9zaXRpb24sIE1BWF9QQVlMT0FEX1NJWkUpOwogICAgICBjb25zdCBjaHVuayA9IG5ldyBVaW50OEFycmF5KGZpbGVEYXRhLCBwb3NpdGlvbiwgbGVuZ3RoKTsKICAgICAgcG9zaXRpb24gKz0gbGVuZ3RoOwoKICAgICAgY29uc3QgYmFzZTY0ID0gYnRvYShTdHJpbmcuZnJvbUNoYXJDb2RlLmFwcGx5KG51bGwsIGNodW5rKSk7CiAgICAgIHlpZWxkIHsKICAgICAgICByZXNwb25zZTogewogICAgICAgICAgYWN0aW9uOiAnYXBwZW5kJywKICAgICAgICAgIGZpbGU6IGZpbGUubmFtZSwKICAgICAgICAgIGRhdGE6IGJhc2U2NCwKICAgICAgICB9LAogICAgICB9OwoKICAgICAgbGV0IHBlcmNlbnREb25lID0gZmlsZURhdGEuYnl0ZUxlbmd0aCA9PT0gMCA/CiAgICAgICAgICAxMDAgOgogICAgICAgICAgTWF0aC5yb3VuZCgocG9zaXRpb24gLyBmaWxlRGF0YS5ieXRlTGVuZ3RoKSAqIDEwMCk7CiAgICAgIHBlcmNlbnQudGV4dENvbnRlbnQgPSBgJHtwZXJjZW50RG9uZX0lIGRvbmVgOwoKICAgIH0gd2hpbGUgKHBvc2l0aW9uIDwgZmlsZURhdGEuYnl0ZUxlbmd0aCk7CiAgfQoKICAvLyBBbGwgZG9uZS4KICB5aWVsZCB7CiAgICByZXNwb25zZTogewogICAgICBhY3Rpb246ICdjb21wbGV0ZScsCiAgICB9CiAgfTsKfQoKc2NvcGUuZ29vZ2xlID0gc2NvcGUuZ29vZ2xlIHx8IHt9OwpzY29wZS5nb29nbGUuY29sYWIgPSBzY29wZS5nb29nbGUuY29sYWIgfHwge307CnNjb3BlLmdvb2dsZS5jb2xhYi5fZmlsZXMgPSB7CiAgX3VwbG9hZEZpbGVzLAogIF91cGxvYWRGaWxlc0NvbnRpbnVlLAp9Owp9KShzZWxmKTsK",
              "headers": [
                [
                  "content-type",
                  "application/javascript"
                ]
              ],
              "ok": true,
              "status": 200,
              "status_text": ""
            }
          }
        },
        "id": "-s4VdqR36K5w",
        "outputId": "58aab060-8295-4763-f965-a6bbdcca82de"
      },
      "outputs": [],
      "source": [
        "# upload an image file\n",
        "\n",
        "uploaded = files.upload()\n",
        "for fn in uploaded.keys():\n",
        "  print('User uploaded file: {name}'.format(name=fn))"
      ]
    },
    {
      "cell_type": "code",
      "execution_count": null,
      "metadata": {
        "id": "DPT8z4Kn7SqF"
      },
      "outputs": [],
      "source": [
        "# get the file name of the uploaded file \n",
        "\n",
        "img_name = list(uploaded.keys())[0]"
      ]
    },
    {
      "cell_type": "code",
      "execution_count": null,
      "metadata": {
        "colab": {
          "base_uri": "https://localhost:8080/",
          "height": 321
        },
        "id": "D-UIyfuI6rOM",
        "outputId": "e0ef4ec6-97fe-41e5-a85f-4c7a66ea7b6d"
      },
      "outputs": [],
      "source": [
        "# predict\n",
        "\n",
        "img = PILImage.create(uploaded[img_name])\n",
        "\n",
        "img.show()"
      ]
    },
    {
      "cell_type": "code",
      "execution_count": null,
      "metadata": {
        "colab": {
          "base_uri": "https://localhost:8080/",
          "height": 35
        },
        "id": "Ei_aQNYPZQql",
        "outputId": "e1578d99-07e9-43a2-c2b6-fe64e8f90a5f"
      },
      "outputs": [],
      "source": [
        "learn.predict(img)"
      ]
    },
    {
      "cell_type": "markdown",
      "metadata": {
        "id": "KNGtryDEm07A"
      },
      "source": [
        "# 12. Image augmentation"
      ]
    },
    {
      "cell_type": "markdown",
      "metadata": {
        "id": "B410rUtMm4ps"
      },
      "source": [
        "## 12.1 Radome Resized Crop"
      ]
    },
    {
      "cell_type": "code",
      "execution_count": null,
      "metadata": {
        "id": "aph2FzOaf4JS"
      },
      "outputs": [],
      "source": [
        "dls_aug = DataBlock(\n",
        "    blocks=(ImageBlock, RegressionBlock),\n",
        "    get_x=ColReader('my_file_path'), \n",
        "    get_y=ColReader('age'),\n",
        "    splitter=RandomSplitter(valid_pct=0.2, seed=my_random_seed),\n",
        "    item_tfms=RandomResizedCrop(128, min_scale=0.7)\n",
        ").dataloaders(df_imdb_simple)"
      ]
    },
    {
      "cell_type": "code",
      "execution_count": null,
      "metadata": {
        "colab": {
          "base_uri": "https://localhost:8080/",
          "height": 370
        },
        "id": "NmJwTHFrjUkH",
        "outputId": "e2fa2415-b20b-4e71-9161-ad6a984171a1"
      },
      "outputs": [],
      "source": [
        "dls_aug.train.show_batch(max_n=8, nrows=2, unique=True)"
      ]
    },
    {
      "cell_type": "code",
      "execution_count": null,
      "metadata": {
        "colab": {
          "base_uri": "https://localhost:8080/",
          "height": 583
        },
        "id": "DQ2CELTogMGp",
        "outputId": "50bc0987-82ec-4a13-96e3-b4f2ac5bb2be"
      },
      "outputs": [],
      "source": [
        "learn = cnn_learner(dls_aug, resnet34, metrics=rmse).to_fp16() # resnet 18, 34, 50, 101, 152\n",
        "learn.fine_tune(15)"
      ]
    },
    {
      "cell_type": "markdown",
      "metadata": {
        "id": "jwdyVVgDmYYc"
      },
      "source": [
        "## 12.2 aug_transforms"
      ]
    },
    {
      "cell_type": "code",
      "execution_count": null,
      "metadata": {
        "colab": {
          "base_uri": "https://localhost:8080/"
        },
        "id": "52CF-mghhdcq",
        "outputId": "f8d40bfd-2588-47c1-e493-4af66005c65a"
      },
      "outputs": [],
      "source": [
        "dls_aug2 = DataBlock(\n",
        "    blocks=(ImageBlock, RegressionBlock),\n",
        "    get_x=ColReader('my_file_path'), \n",
        "    get_y=ColReader('age'),\n",
        "    splitter=RandomSplitter(valid_pct=0.2, seed=my_random_seed),\n",
        "    item_tfms=Resize(128),\n",
        "    batch_tfms=aug_transforms(mult=2)\n",
        ").dataloaders(df_imdb_simple)"
      ]
    },
    {
      "cell_type": "code",
      "execution_count": null,
      "metadata": {
        "colab": {
          "base_uri": "https://localhost:8080/",
          "height": 370
        },
        "id": "QLGpgLSpj1Kd",
        "outputId": "4ea5e212-2e9d-426f-f0b4-2b40cf7db075"
      },
      "outputs": [],
      "source": [
        "dls_aug2.train.show_batch(max_n=8, nrows=2, unique=True)"
      ]
    },
    {
      "cell_type": "code",
      "execution_count": null,
      "metadata": {
        "colab": {
          "base_uri": "https://localhost:8080/",
          "height": 583
        },
        "id": "rHhl25U2hrx_",
        "outputId": "401b15d5-db01-42be-b12d-558fc41cb55c"
      },
      "outputs": [],
      "source": [
        "learn = cnn_learner(dls_aug2, resnet34, metrics=rmse).to_fp16() # resnet 18, 34, 50, 101, 152\n",
        "learn.fine_tune(15)"
      ]
    },
    {
      "cell_type": "markdown",
      "metadata": {
        "id": "6ncb4GqzTo0A"
      },
      "source": [
        "# 13. Early stopping"
      ]
    },
    {
      "cell_type": "code",
      "execution_count": null,
      "metadata": {
        "colab": {
          "base_uri": "https://localhost:8080/",
          "height": 35
        },
        "id": "i72mgwAKTui3",
        "outputId": "3c3d8a38-01e3-42d4-8cae-158af88d8251"
      },
      "outputs": [],
      "source": [
        "learn.validate()"
      ]
    },
    {
      "cell_type": "code",
      "execution_count": null,
      "metadata": {
        "colab": {
          "base_uri": "https://localhost:8080/",
          "height": 791
        },
        "id": "nEPTI-sZTrji",
        "outputId": "0286a77e-4fa3-4a83-9485-991561b32e8b"
      },
      "outputs": [],
      "source": [
        "learn.path = Path('./')\n",
        "\n",
        "learn = cnn_learner(dls_aug2, resnet34, metrics=rmse).to_fp16() # resnet 18, 34, 50, 101, 152\n",
        "learn.fine_tune(50, cbs=[EarlyStoppingCallback(monitor='valid_loss', patience=3),SaveModelCallback(monitor='valid_loss')])"
      ]
    },
    {
      "cell_type": "code",
      "execution_count": null,
      "metadata": {
        "colab": {
          "base_uri": "https://localhost:8080/",
          "height": 35
        },
        "id": "iD-k5E3_UEie",
        "outputId": "c8ee24ba-27f4-4ec0-d62d-82dd7122a3d1"
      },
      "outputs": [],
      "source": [
        "learn.validate()"
      ]
    }
  ],
  "metadata": {
    "accelerator": "GPU",
    "colab": {
      "collapsed_sections": [],
      "name": "CNN_과제.ipynb",
      "provenance": []
    },
    "kernelspec": {
      "display_name": "Python 3",
      "name": "python3"
    },
    "language_info": {
      "name": "python"
    },
    "widgets": {
      "application/vnd.jupyter.widget-state+json": {
        "0126df7c358249e298867f69d1424768": {
          "model_module": "@jupyter-widgets/controls",
          "model_module_version": "1.5.0",
          "model_name": "ProgressStyleModel",
          "state": {
            "_model_module": "@jupyter-widgets/controls",
            "_model_module_version": "1.5.0",
            "_model_name": "ProgressStyleModel",
            "_view_count": null,
            "_view_module": "@jupyter-widgets/base",
            "_view_module_version": "1.2.0",
            "_view_name": "StyleView",
            "bar_color": null,
            "description_width": ""
          }
        },
        "1b24e81cfe264ffba2ec9ed5f90423ff": {
          "model_module": "@jupyter-widgets/base",
          "model_module_version": "1.2.0",
          "model_name": "LayoutModel",
          "state": {
            "_model_module": "@jupyter-widgets/base",
            "_model_module_version": "1.2.0",
            "_model_name": "LayoutModel",
            "_view_count": null,
            "_view_module": "@jupyter-widgets/base",
            "_view_module_version": "1.2.0",
            "_view_name": "LayoutView",
            "align_content": null,
            "align_items": null,
            "align_self": null,
            "border": null,
            "bottom": null,
            "display": null,
            "flex": null,
            "flex_flow": null,
            "grid_area": null,
            "grid_auto_columns": null,
            "grid_auto_flow": null,
            "grid_auto_rows": null,
            "grid_column": null,
            "grid_gap": null,
            "grid_row": null,
            "grid_template_areas": null,
            "grid_template_columns": null,
            "grid_template_rows": null,
            "height": null,
            "justify_content": null,
            "justify_items": null,
            "left": null,
            "margin": null,
            "max_height": null,
            "max_width": null,
            "min_height": null,
            "min_width": null,
            "object_fit": null,
            "object_position": null,
            "order": null,
            "overflow": null,
            "overflow_x": null,
            "overflow_y": null,
            "padding": null,
            "right": null,
            "top": null,
            "visibility": null,
            "width": null
          }
        },
        "2d03d3e2f258449f88a080ba34164b04": {
          "model_module": "@jupyter-widgets/base",
          "model_module_version": "1.2.0",
          "model_name": "LayoutModel",
          "state": {
            "_model_module": "@jupyter-widgets/base",
            "_model_module_version": "1.2.0",
            "_model_name": "LayoutModel",
            "_view_count": null,
            "_view_module": "@jupyter-widgets/base",
            "_view_module_version": "1.2.0",
            "_view_name": "LayoutView",
            "align_content": null,
            "align_items": null,
            "align_self": null,
            "border": null,
            "bottom": null,
            "display": null,
            "flex": null,
            "flex_flow": null,
            "grid_area": null,
            "grid_auto_columns": null,
            "grid_auto_flow": null,
            "grid_auto_rows": null,
            "grid_column": null,
            "grid_gap": null,
            "grid_row": null,
            "grid_template_areas": null,
            "grid_template_columns": null,
            "grid_template_rows": null,
            "height": null,
            "justify_content": null,
            "justify_items": null,
            "left": null,
            "margin": null,
            "max_height": null,
            "max_width": null,
            "min_height": null,
            "min_width": null,
            "object_fit": null,
            "object_position": null,
            "order": null,
            "overflow": null,
            "overflow_x": null,
            "overflow_y": null,
            "padding": null,
            "right": null,
            "top": null,
            "visibility": null,
            "width": null
          }
        },
        "34d084e4304c475b953b0a308935fe5e": {
          "model_module": "@jupyter-widgets/controls",
          "model_module_version": "1.5.0",
          "model_name": "HBoxModel",
          "state": {
            "_dom_classes": [],
            "_model_module": "@jupyter-widgets/controls",
            "_model_module_version": "1.5.0",
            "_model_name": "HBoxModel",
            "_view_count": null,
            "_view_module": "@jupyter-widgets/controls",
            "_view_module_version": "1.5.0",
            "_view_name": "HBoxView",
            "box_style": "",
            "children": [
              "IPY_MODEL_a1bbfb3630c54f50975ef692ae73836b",
              "IPY_MODEL_df76e3106d9646fa93cd6365cebf0ee6",
              "IPY_MODEL_c3537a1ac88245858935afe433bf353c"
            ],
            "layout": "IPY_MODEL_2d03d3e2f258449f88a080ba34164b04"
          }
        },
        "57f8679945db4aca9bce0a5eb36dd7c6": {
          "model_module": "@jupyter-widgets/base",
          "model_module_version": "1.2.0",
          "model_name": "LayoutModel",
          "state": {
            "_model_module": "@jupyter-widgets/base",
            "_model_module_version": "1.2.0",
            "_model_name": "LayoutModel",
            "_view_count": null,
            "_view_module": "@jupyter-widgets/base",
            "_view_module_version": "1.2.0",
            "_view_name": "LayoutView",
            "align_content": null,
            "align_items": null,
            "align_self": null,
            "border": null,
            "bottom": null,
            "display": null,
            "flex": null,
            "flex_flow": null,
            "grid_area": null,
            "grid_auto_columns": null,
            "grid_auto_flow": null,
            "grid_auto_rows": null,
            "grid_column": null,
            "grid_gap": null,
            "grid_row": null,
            "grid_template_areas": null,
            "grid_template_columns": null,
            "grid_template_rows": null,
            "height": null,
            "justify_content": null,
            "justify_items": null,
            "left": null,
            "margin": null,
            "max_height": null,
            "max_width": null,
            "min_height": null,
            "min_width": null,
            "object_fit": null,
            "object_position": null,
            "order": null,
            "overflow": null,
            "overflow_x": null,
            "overflow_y": null,
            "padding": null,
            "right": null,
            "top": null,
            "visibility": null,
            "width": null
          }
        },
        "a1bbfb3630c54f50975ef692ae73836b": {
          "model_module": "@jupyter-widgets/controls",
          "model_module_version": "1.5.0",
          "model_name": "HTMLModel",
          "state": {
            "_dom_classes": [],
            "_model_module": "@jupyter-widgets/controls",
            "_model_module_version": "1.5.0",
            "_model_name": "HTMLModel",
            "_view_count": null,
            "_view_module": "@jupyter-widgets/controls",
            "_view_module_version": "1.5.0",
            "_view_name": "HTMLView",
            "description": "",
            "description_tooltip": null,
            "layout": "IPY_MODEL_bbd19abbc2c44dc88f506885ff69c89c",
            "placeholder": "​",
            "style": "IPY_MODEL_cdc01811218b48dd9f3e73338dcea21b",
            "value": "100%"
          }
        },
        "bbd19abbc2c44dc88f506885ff69c89c": {
          "model_module": "@jupyter-widgets/base",
          "model_module_version": "1.2.0",
          "model_name": "LayoutModel",
          "state": {
            "_model_module": "@jupyter-widgets/base",
            "_model_module_version": "1.2.0",
            "_model_name": "LayoutModel",
            "_view_count": null,
            "_view_module": "@jupyter-widgets/base",
            "_view_module_version": "1.2.0",
            "_view_name": "LayoutView",
            "align_content": null,
            "align_items": null,
            "align_self": null,
            "border": null,
            "bottom": null,
            "display": null,
            "flex": null,
            "flex_flow": null,
            "grid_area": null,
            "grid_auto_columns": null,
            "grid_auto_flow": null,
            "grid_auto_rows": null,
            "grid_column": null,
            "grid_gap": null,
            "grid_row": null,
            "grid_template_areas": null,
            "grid_template_columns": null,
            "grid_template_rows": null,
            "height": null,
            "justify_content": null,
            "justify_items": null,
            "left": null,
            "margin": null,
            "max_height": null,
            "max_width": null,
            "min_height": null,
            "min_width": null,
            "object_fit": null,
            "object_position": null,
            "order": null,
            "overflow": null,
            "overflow_x": null,
            "overflow_y": null,
            "padding": null,
            "right": null,
            "top": null,
            "visibility": null,
            "width": null
          }
        },
        "c3537a1ac88245858935afe433bf353c": {
          "model_module": "@jupyter-widgets/controls",
          "model_module_version": "1.5.0",
          "model_name": "HTMLModel",
          "state": {
            "_dom_classes": [],
            "_model_module": "@jupyter-widgets/controls",
            "_model_module_version": "1.5.0",
            "_model_name": "HTMLModel",
            "_view_count": null,
            "_view_module": "@jupyter-widgets/controls",
            "_view_module_version": "1.5.0",
            "_view_name": "HTMLView",
            "description": "",
            "description_tooltip": null,
            "layout": "IPY_MODEL_57f8679945db4aca9bce0a5eb36dd7c6",
            "placeholder": "​",
            "style": "IPY_MODEL_d6e828684d2f4fc5955d439fdba16f3f",
            "value": " 83.3M/83.3M [00:00&lt;00:00, 151MB/s]"
          }
        },
        "cdc01811218b48dd9f3e73338dcea21b": {
          "model_module": "@jupyter-widgets/controls",
          "model_module_version": "1.5.0",
          "model_name": "DescriptionStyleModel",
          "state": {
            "_model_module": "@jupyter-widgets/controls",
            "_model_module_version": "1.5.0",
            "_model_name": "DescriptionStyleModel",
            "_view_count": null,
            "_view_module": "@jupyter-widgets/base",
            "_view_module_version": "1.2.0",
            "_view_name": "StyleView",
            "description_width": ""
          }
        },
        "d6e828684d2f4fc5955d439fdba16f3f": {
          "model_module": "@jupyter-widgets/controls",
          "model_module_version": "1.5.0",
          "model_name": "DescriptionStyleModel",
          "state": {
            "_model_module": "@jupyter-widgets/controls",
            "_model_module_version": "1.5.0",
            "_model_name": "DescriptionStyleModel",
            "_view_count": null,
            "_view_module": "@jupyter-widgets/base",
            "_view_module_version": "1.2.0",
            "_view_name": "StyleView",
            "description_width": ""
          }
        },
        "df76e3106d9646fa93cd6365cebf0ee6": {
          "model_module": "@jupyter-widgets/controls",
          "model_module_version": "1.5.0",
          "model_name": "FloatProgressModel",
          "state": {
            "_dom_classes": [],
            "_model_module": "@jupyter-widgets/controls",
            "_model_module_version": "1.5.0",
            "_model_name": "FloatProgressModel",
            "_view_count": null,
            "_view_module": "@jupyter-widgets/controls",
            "_view_module_version": "1.5.0",
            "_view_name": "ProgressView",
            "bar_style": "success",
            "description": "",
            "description_tooltip": null,
            "layout": "IPY_MODEL_1b24e81cfe264ffba2ec9ed5f90423ff",
            "max": 87319819,
            "min": 0,
            "orientation": "horizontal",
            "style": "IPY_MODEL_0126df7c358249e298867f69d1424768",
            "value": 87319819
          }
        }
      }
    }
  },
  "nbformat": 4,
  "nbformat_minor": 0
}
